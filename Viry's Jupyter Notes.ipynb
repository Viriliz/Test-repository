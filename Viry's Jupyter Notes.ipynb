{
 "cells": [
  {
   "cell_type": "markdown",
   "metadata": {},
   "source": [
    " #Undo There are 2 ways to do this: ",
    " ",
    "Go to Edit option click on it and select \"Undo Delete Cells\" ",
    "Use the short cut key cmd + shift + p and type undo cell deleted and click on enter to recover cell ",
    "For windows cntrl+shift+P command is used."
   ]
  },
  {
   "cell_type": "markdown",
   "metadata": {},
   "source": [
    "More details on jupyter notebooks https://jupyter.brynmawr.edu/services/public/dblank/Jupyter%20Notebook%20Users%20Manual.ipynb\n"
   ]
  },
  {
   "cell_type": "markdown",
   "metadata": {},
   "source": [
    "More on markdown syntax https://www.markdownguide.org/basic-syntax/\n"
   ]
  },
  {
   "cell_type": "markdown",
   "metadata": {},
   "source": [
    "Rise to visualize slideshows https://rise.readthedocs.io/en/stable/installation.html\n",
    "On the toolbar use view,cell toolbar, slideshow to make the dropdown menu on the top right of the cell show so you can define whether is a slide, subslide or a fragment. This allows you to modify codes on the fly while is displayed on screen as a slide. This is particularly useful when discussing data with others during a presentation and requiring data visualization in different ways for analysis. "
   ]
  },
  {
   "cell_type": "markdown",
   "metadata": {},
   "source": [
    "API Allows you to share data with others without them modifying the architecture, users can work with it but they don't compromise their integrity, particularly useful with open data. Proprietary data sets may need a license, always double check if data is open or needs license"
   ]
  },
  {
   "cell_type": "markdown",
   "metadata": {},
   "source": [
    "GitHub account\n",
    "Create a repository, use a readme to add instructions and use the # like in the code to annotate\n",
    "Choose a license, the licenses on the drop down are templates, i.e MIT one let's everyone use my code in that repository as they wish. Not payed licenses just templates on conditions, but I could make my own\n",
    "If I want to commit something to the code I can add it at the bottom on Commit new file and choose whether I do it on the main code (master but this may change to be inclusive) or create a new branch. The branch will be tested for conflict. This will create a pull request and you can merge. The branch can be now deleted or kept. \n",
    "On the repository you'll see the file as main and the branch as well. "
   ]
  },
  {
   "cell_type": "markdown",
   "metadata": {},
   "source": [
    "To share a JPNB on github where you've used libraries like pandas and such, you can upload the notebook onto the repository from syzygy or from the local machine, add the binder button onto the readme file and let github build the notebook onto the repository. Then you can have a link which you can use to share that notebook. Now, the notebook will crash because at the begining of said notebook we imported the libraries for the tool we needed. You can add the libraries onto the binder so it runs into a requirements.txt file \n"
   ]
  }
 ],
 "metadata": {
  "kernelspec": {
   "display_name": "Python 3",
   "language": "python",
   "name": "python3"
  },
  "language_info": {
   "codemirror_mode": {
    "name": "ipython",
    "version": 3
   },
   "file_extension": ".py",
   "mimetype": "text/x-python",
   "name": "python",
   "nbconvert_exporter": "python",
   "pygments_lexer": "ipython3",
   "version": "3.7.6"
  }
 },
 "nbformat": 4,
 "nbformat_minor": 4
}
